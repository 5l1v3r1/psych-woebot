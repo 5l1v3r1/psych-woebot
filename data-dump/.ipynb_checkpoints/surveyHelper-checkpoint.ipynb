{
 "cells": [
  {
   "cell_type": "code",
   "execution_count": 2,
   "metadata": {},
   "outputs": [],
   "source": [
    "%matplotlib inline\n",
    "import matplotlib.pyplot as plt\n",
    "\n",
    "fh = open(\"pre-therapy.csv\")"
   ]
  },
  {
   "cell_type": "code",
   "execution_count": 5,
   "metadata": {},
   "outputs": [
    {
     "name": "stdout",
     "output_type": "stream",
     "text": [
      "[9, 2, 8, 3, 5, 13, 19, 9, 4, 4, 7, 14, 2, 3, 4, 17, 3, 8, 3, 1]\n",
      "[10, 6, 2, 2, 0]\n"
     ]
    },
    {
     "data": {
      "image/png": "[encoded data removed]",
      "text/plain": [
       "<matplotlib.figure.Figure at 0x10bba8fd0>"
      ]
     },
     "metadata": {},
     "output_type": "display_data"
    }
   ],
   "source": [
    "def prep_vol_array(fname):\n",
    "    f = open(fname)\n",
    "    counter = 0\n",
    "    a = []\n",
    "    for line in f:\n",
    "        if counter == 0:\n",
    "            counter+=1\n",
    "            continue\n",
    "        a.append(line.split(\",\")[1])\n",
    "    return a\n",
    "\n",
    "\n",
    "def calc_PHS9_score(fname):\n",
    "    fh = open(fname)\n",
    "    counter = 0\n",
    "    score_arr = []\n",
    "    \n",
    "    for line in fh:\n",
    "        if(counter==0):\n",
    "            counter+=1\n",
    "            continue\n",
    "        else:\n",
    "            score = 0\n",
    "            a = line.split(\",\")[2:11]\n",
    "            for i in a:\n",
    "                s = i.split(\":\")\n",
    "                k = int(s[0].strip())\n",
    "                score+=k\n",
    "            score_arr.append(score)\n",
    "    return score_arr\n",
    "\n",
    "def create_PHS9_plotpoints(score_array):\n",
    "    \n",
    "    plot_arr = [0]*5\n",
    "    for i in score_array:\n",
    "        \n",
    "        if i >= 0 and i <=4:\n",
    "            plot_arr[0]+=1\n",
    "        elif i>=5 and i<=9:\n",
    "            plot_arr[1]+=1\n",
    "        elif i>=10 and i<=15:\n",
    "            plot_arr[2]+=1\n",
    "        elif i>=16 and i<=19:\n",
    "            plot_arr[3]+=1\n",
    "        elif i>=20 and i<=27:\n",
    "            plot_arr[4]+=1\n",
    "            \n",
    "    return plot_arr\n",
    "        \n",
    "\n",
    "\n",
    "\n",
    "\n",
    "b = calc_PHS9_score(\"pre-therapy.csv\")\n",
    "p = create_PHS9_plotpoints(b)\n",
    "\n",
    "print(b)\n",
    "print(p)\n",
    "\n",
    "\n",
    "def render_score_pieplot_PHS9(plot_array):\n",
    "    # Pie chart, where the slices will be ordered and plotted counter-clockwise:\n",
    "    fig1, ax1 = plt.subplots()\n",
    "    PHS_DEPRESSION_LEVEL_ARR = \"None\", \"Mild\", \"Moderate\", \"Moderately severe\", \"Severe\"\n",
    "    ax1.pie(plot_array, labels=PHS_DEPRESSION_LEVEL_ARR, autopct='%1.1f%%', startangle=90)\n",
    "    ax1.axis('equal')  # Equal aspect ratio ensures that pie is drawn as a circle.\n",
    "\n",
    "    plt.show()\n",
    "    \n",
    "render_score_pieplot_PHS9(p)\n"
   ]
  },
  {
   "cell_type": "code",
   "execution_count": null,
   "metadata": {},
   "outputs": [],
   "source": []
  }
 ],
 "metadata": {
  "kernelspec": {
   "display_name": "Python 3",
   "language": "python",
   "name": "python3"
  },
  "language_info": {
   "codemirror_mode": {
    "name": "ipython",
    "version": 3
   },
   "file_extension": ".py",
   "mimetype": "text/x-python",
   "name": "python",
   "nbconvert_exporter": "python",
   "pygments_lexer": "ipython3",
   "version": "3.6.2"
  }
 },
 "nbformat": 4,
 "nbformat_minor": 2
}
